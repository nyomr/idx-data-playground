{
 "cells": [
  {
   "cell_type": "code",
   "execution_count": 10,
   "id": "e89c68c4",
   "metadata": {},
   "outputs": [],
   "source": [
    "import pandas as pd"
   ]
  },
  {
   "cell_type": "code",
   "execution_count": 11,
   "id": "ba34ee56",
   "metadata": {},
   "outputs": [],
   "source": [
    "df = pd.read_csv(\"data_perusahaan_bersih.csv\")"
   ]
  },
  {
   "cell_type": "code",
   "execution_count": null,
   "id": "e584bdf4",
   "metadata": {},
   "outputs": [],
   "source": [
    "df[\"NamaEmiten\"] = (\n",
    "    df[\"NamaEmiten\"]\n",
    "    .str.replace('\"', '', regex=False)\n",
    "    .str.replace(',', '', regex=False)\n",
    "    .str.replace(r'\\bTbk\\.+', 'Tbk', regex=True)\n",
    "    .str.replace(r'\\bTbk Tbk\\b', 'Tbk', regex=True)\n",
    "    .str.replace(r'\\s+', ' ', regex=True)\n",
    "    .str.strip()\n",
    ")"
   ]
  },
  {
   "cell_type": "code",
   "execution_count": 19,
   "id": "082d7078",
   "metadata": {},
   "outputs": [],
   "source": [
    "filename = \"update_data_perusahaan_bersih.csv\""
   ]
  },
  {
   "cell_type": "code",
   "execution_count": 20,
   "id": "47427018",
   "metadata": {},
   "outputs": [
    {
     "name": "stdout",
     "output_type": "stream",
     "text": [
      "Cleaning done, saved to update_data_perusahaan_bersih.csv\n"
     ]
    }
   ],
   "source": [
    "df.to_csv(filename, index=False)\n",
    "print(f\"Cleaning done, saved to {filename}\")"
   ]
  }
 ],
 "metadata": {
  "kernelspec": {
   "display_name": "bursaefek",
   "language": "python",
   "name": "python3"
  },
  "language_info": {
   "codemirror_mode": {
    "name": "ipython",
    "version": 3
   },
   "file_extension": ".py",
   "mimetype": "text/x-python",
   "name": "python",
   "nbconvert_exporter": "python",
   "pygments_lexer": "ipython3",
   "version": "3.12.11"
  }
 },
 "nbformat": 4,
 "nbformat_minor": 5
}
