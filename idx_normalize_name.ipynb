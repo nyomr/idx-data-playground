{
 "cells": [
  {
   "cell_type": "code",
   "execution_count": 9,
   "id": "8bbb0e59",
   "metadata": {},
   "outputs": [],
   "source": [
    "import pandas as pd"
   ]
  },
  {
   "cell_type": "code",
   "execution_count": 15,
   "id": "c679bbb7",
   "metadata": {},
   "outputs": [],
   "source": [
    "x = \"profil_perusahaan_bersih.csv\"\n",
    "y = \"update_data_perusahaan_bersih.csv\""
   ]
  },
  {
   "cell_type": "code",
   "execution_count": 16,
   "id": "38139c39",
   "metadata": {},
   "outputs": [],
   "source": [
    "dfx = pd.read_csv(x)\n",
    "dfy = pd.read_csv(y)"
   ]
  },
  {
   "cell_type": "code",
   "execution_count": 17,
   "id": "4a3bb069",
   "metadata": {},
   "outputs": [],
   "source": [
    "dfz = dfx.drop(columns=[\"NamaEmiten\"]).merge(\n",
    "    dfy[[\"KodeEmiten\", \"NamaEmiten\"]],\n",
    "    on=\"KodeEmiten\",\n",
    "    how=\"left\"\n",
    ")"
   ]
  },
  {
   "cell_type": "code",
   "execution_count": 18,
   "id": "6dfae1b5",
   "metadata": {},
   "outputs": [],
   "source": [
    "filename = f\"clean_{x}\""
   ]
  },
  {
   "cell_type": "code",
   "execution_count": 19,
   "id": "dade055f",
   "metadata": {},
   "outputs": [],
   "source": [
    "dfz.to_csv(filename, index=False)"
   ]
  }
 ],
 "metadata": {
  "kernelspec": {
   "display_name": "bursaefek",
   "language": "python",
   "name": "python3"
  },
  "language_info": {
   "codemirror_mode": {
    "name": "ipython",
    "version": 3
   },
   "file_extension": ".py",
   "mimetype": "text/x-python",
   "name": "python",
   "nbconvert_exporter": "python",
   "pygments_lexer": "ipython3",
   "version": "3.12.11"
  }
 },
 "nbformat": 4,
 "nbformat_minor": 5
}
